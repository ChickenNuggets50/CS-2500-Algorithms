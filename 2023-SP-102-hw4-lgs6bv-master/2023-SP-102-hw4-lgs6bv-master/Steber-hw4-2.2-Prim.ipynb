{
 "cells": [
  {
   "attachments": {},
   "cell_type": "markdown",
   "metadata": {},
   "source": [
    "# Notebook: Prim's Algorithm\n",
    "## Author: Lincoln Steber\n",
    "## Course: CS 2500 (Algorithms) @ Missouri S&T"
   ]
  },
  {
   "attachments": {},
   "cell_type": "markdown",
   "metadata": {},
   "source": [
    "### Prerequisite Packages\n",
    "N/A"
   ]
  },
  {
   "cell_type": "code",
   "execution_count": 1,
   "metadata": {},
   "outputs": [],
   "source": [
    "import sys"
   ]
  },
  {
   "attachments": {},
   "cell_type": "markdown",
   "id": "4b6c070a",
   "metadata": {},
   "source": [
    "## Prim's Algorithm"
   ]
  },
  {
   "cell_type": "code",
   "execution_count": 2,
   "id": "a052da46",
   "metadata": {},
   "outputs": [],
   "source": [
    "class Graph:\n",
    "    def __init__(self, vertices):\n",
    "        self.V = vertices\n",
    "        self.graph = [[0]*vertices for i in range(vertices)]\n",
    "\n",
    "    def add_edge(self, u, v, weight):\n",
    "        self.graph[u][v] = weight\n",
    "        self.graph[v][u] = weight\n",
    "\n",
    "    def MST_prim(self):\n",
    "        key = [sys.maxsize] * self.V\n",
    "        parent = [None] * self.V\n",
    "        mst_set = [False] * self.V\n",
    "        key[0] = 0\n",
    "        parent[0] = -1\n",
    "        for i in range(self.V):\n",
    "            u = self.extract_min(key, mst_set)\n",
    "            mst_set[u] = True\n",
    "            for v in range(self.V):\n",
    "                if self.graph[u][v] > 0 and not mst_set[v] and key[v] > self.graph[u][v]:\n",
    "                    key[v] = self.graph[u][v]\n",
    "                    parent[v] = u\n",
    "        self.print_mst(parent)\n",
    "\n",
    "    def extract_min(self, key, mst_set):\n",
    "        min_val = float('inf')\n",
    "        min_index = None\n",
    "        for v in range(self.V):\n",
    "            if not mst_set[v] and key[v] < min_val:\n",
    "                min_val = key[v]\n",
    "                min_index = v\n",
    "        return min_index\n",
    "\n",
    "    def print_mst(self, parent):\n",
    "        for i in range(1, self.V):\n",
    "            print(f\"{parent[i]}-{i} Cost:{self.graph[i][parent[i]]}\", end=\" \")"
   ]
  },
  {
   "attachments": {},
   "cell_type": "markdown",
   "metadata": {},
   "source": [
    "## Test input"
   ]
  },
  {
   "cell_type": "code",
   "execution_count": 3,
   "metadata": {},
   "outputs": [
    {
     "name": "stdout",
     "output_type": "stream",
     "text": [
      "6-1 Cost:1 7-2 Cost:1 8-3 Cost:1 9-4 Cost:1 0-5 Cost:1 8-6 Cost:2 5-7 Cost:2 5-8 Cost:2 7-9 Cost:2 "
     ]
    }
   ],
   "source": [
    "if __name__ == \"__main__\":\n",
    "    g = Graph(10)\n",
    "    g.add_edge(0, 5, 1)\n",
    "    g.add_edge(0, 1, 3)\n",
    "    g.add_edge(0, 4, 3)\n",
    "    g.add_edge(1, 6, 1)\n",
    "    g.add_edge(1, 2, 3)\n",
    "    g.add_edge(2, 7, 1)\n",
    "    g.add_edge(2, 3, 3)\n",
    "    g.add_edge(3, 8, 1)\n",
    "    g.add_edge(3, 4, 3)\n",
    "    g.add_edge(4, 9, 1)\n",
    "    g.add_edge(5, 7, 2)\n",
    "    g.add_edge(5, 8, 2)\n",
    "    g.add_edge(6, 8, 2)\n",
    "    g.add_edge(6, 9, 2)\n",
    "    g.add_edge(7, 9, 2)\n",
    "    g.MST_prim()"
   ]
  }
 ],
 "metadata": {
  "kernelspec": {
   "display_name": "Python 3",
   "language": "python",
   "name": "python3"
  },
  "language_info": {
   "codemirror_mode": {
    "name": "ipython",
    "version": 3
   },
   "file_extension": ".py",
   "mimetype": "text/x-python",
   "name": "python",
   "nbconvert_exporter": "python",
   "pygments_lexer": "ipython3",
   "version": "3.11.1"
  },
  "vscode": {
   "interpreter": {
    "hash": "a6f9a6889f2251270f60030bf9131b718b88064876a2b7b13b5dab7f1c554407"
   }
  }
 },
 "nbformat": 4,
 "nbformat_minor": 5
}
