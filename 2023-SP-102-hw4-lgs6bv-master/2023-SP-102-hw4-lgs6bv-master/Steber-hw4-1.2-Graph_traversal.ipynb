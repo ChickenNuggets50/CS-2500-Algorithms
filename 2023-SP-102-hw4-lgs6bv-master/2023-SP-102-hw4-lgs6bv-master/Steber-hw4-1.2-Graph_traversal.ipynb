{
 "cells": [
  {
   "attachments": {},
   "cell_type": "markdown",
   "metadata": {},
   "source": [
    "# Notebook: Graph Traversal\n",
    "## Author: Lincoln Steber\n",
    "## Course: CS 2500 (Algorithms) @ Missouri S&T"
   ]
  },
  {
   "attachments": {},
   "cell_type": "markdown",
   "metadata": {},
   "source": [
    "### Prerequisite Packages\n",
    "N/A"
   ]
  },
  {
   "cell_type": "code",
   "execution_count": 1,
   "metadata": {},
   "outputs": [],
   "source": [
    "from collections import deque"
   ]
  },
  {
   "attachments": {},
   "cell_type": "markdown",
   "id": "4b6c070a",
   "metadata": {},
   "source": [
    "## Graph Traversal"
   ]
  },
  {
   "cell_type": "code",
   "execution_count": 2,
   "id": "a052da46",
   "metadata": {},
   "outputs": [],
   "source": [
    "class Graph:\n",
    "    def __init__(self, V):\n",
    "        self.V = V\n",
    "        self.adj = [[] for _ in range(V)]\n",
    "        self.visited = [-1] * V\n",
    "        self.parent = [None] * V\n",
    "        self.adj_count = [0] * V\n",
    "\n",
    "    def addEdge(self, v, w):\n",
    "        self.adj[v].append(w)\n",
    "\n",
    "    def BFS(self, s):\n",
    "        visited = [False] * self.V\n",
    "        frontier = deque()\n",
    "        visited[s] = True\n",
    "        frontier.append(s)\n",
    "        while frontier:\n",
    "            s = frontier.popleft()\n",
    "            print(s, end=' ')\n",
    "            for n in self.adj[s]:\n",
    "                if not visited[n]:\n",
    "                    visited[n] = True\n",
    "                    frontier.append(n)\n",
    "\n",
    "    def DFS(self, s):\n",
    "        self.visited[s] = 0\n",
    "        frontier = [s]\n",
    "        while frontier:\n",
    "            u = frontier[-1]\n",
    "            print(u, end=' ')\n",
    "            if self.adj_count[u] == len(self.adj[u]):\n",
    "                self.visited[u] = 1\n",
    "                frontier.pop()\n",
    "            else:\n",
    "                v = self.adj[u][self.adj_count[u]]\n",
    "                if self.visited[v] == -1:\n",
    "                    self.visited[v] = 0\n",
    "                    self.parent[v] = u\n",
    "                    frontier.append(v)\n",
    "                else:\n",
    "                    self.adj_count[u] += 1"
   ]
  },
  {
   "attachments": {},
   "cell_type": "markdown",
   "metadata": {},
   "source": [
    "## Test input"
   ]
  },
  {
   "cell_type": "code",
   "execution_count": 3,
   "metadata": {},
   "outputs": [
    {
     "name": "stdout",
     "output_type": "stream",
     "text": [
      "BFS: \n",
      "0 1 2 3 4 5 6 7 8 \n",
      "DFS:\n",
      "0 1 3 6 8 6 6 3 3 7 7 3 3 1 1 4 4 4 1 1 5 5 5 1 1 0 0 2 2 2 2 0 0 "
     ]
    }
   ],
   "source": [
    "if __name__ == '__main__':\n",
    "    g = Graph(9)\n",
    "\n",
    "    g.addEdge(0, 1)\n",
    "    g.addEdge(0, 2)\n",
    "    g.addEdge(1, 3)\n",
    "    g.addEdge(1, 4)\n",
    "    g.addEdge(1, 5)\n",
    "    g.addEdge(2, 3)\n",
    "    g.addEdge(2, 4)\n",
    "    g.addEdge(2, 5)\n",
    "    g.addEdge(3, 6)\n",
    "    g.addEdge(3, 7)\n",
    "    g.addEdge(4, 6)\n",
    "    g.addEdge(4, 7)\n",
    "    g.addEdge(5, 6)\n",
    "    g.addEdge(5, 7)\n",
    "    g.addEdge(6, 8)\n",
    "    g.addEdge(7, 8)\n",
    "\n",
    "    print(\"BFS: \")\n",
    "    g.BFS(0)\n",
    "    print()\n",
    "    print(\"DFS:\")\n",
    "    g.DFS(0)"
   ]
  }
 ],
 "metadata": {
  "kernelspec": {
   "display_name": "Python 3",
   "language": "python",
   "name": "python3"
  },
  "language_info": {
   "codemirror_mode": {
    "name": "ipython",
    "version": 3
   },
   "file_extension": ".py",
   "mimetype": "text/x-python",
   "name": "python",
   "nbconvert_exporter": "python",
   "pygments_lexer": "ipython3",
   "version": "3.11.1"
  },
  "vscode": {
   "interpreter": {
    "hash": "a6f9a6889f2251270f60030bf9131b718b88064876a2b7b13b5dab7f1c554407"
   }
  }
 },
 "nbformat": 4,
 "nbformat_minor": 5
}
