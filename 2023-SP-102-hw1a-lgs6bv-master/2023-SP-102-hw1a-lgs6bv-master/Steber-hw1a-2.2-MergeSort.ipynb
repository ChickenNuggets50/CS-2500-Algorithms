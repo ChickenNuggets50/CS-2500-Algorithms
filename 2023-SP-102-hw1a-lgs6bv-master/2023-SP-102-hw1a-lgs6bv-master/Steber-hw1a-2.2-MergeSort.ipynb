{
 "cells": [
  {
   "attachments": {},
   "cell_type": "markdown",
   "metadata": {},
   "source": [
    "# Notebook 2: Merge Sort\n",
    "## Author: Lincoln Steber\n",
    "## Course: CS 2500 (Algorithms) @ Missouri S&T"
   ]
  },
  {
   "cell_type": "markdown",
   "metadata": {},
   "source": [
    "### Prerequisite Packages\n",
    "\n",
    "We will be using numpy, matplotlib library in this jupyter notebook."
   ]
  },
  {
   "cell_type": "code",
   "execution_count": 23,
   "metadata": {},
   "outputs": [
    {
     "name": "stdout",
     "output_type": "stream",
     "text": [
      "Requirement already satisfied: numpy in c:\\users\\lincs\\appdata\\local\\programs\\python\\python311\\lib\\site-packages (1.24.1)\n",
      "Note: you may need to restart the kernel to use updated packages.\n"
     ]
    },
    {
     "name": "stderr",
     "output_type": "stream",
     "text": [
      "\n",
      "[notice] A new release of pip available: 22.3.1 -> 23.0\n",
      "[notice] To update, run: python.exe -m pip install --upgrade pip\n"
     ]
    },
    {
     "name": "stdout",
     "output_type": "stream",
     "text": [
      "Requirement already satisfied: matplotlib in c:\\users\\lincs\\appdata\\local\\programs\\python\\python311\\lib\\site-packages (3.6.3)\n",
      "Requirement already satisfied: contourpy>=1.0.1 in c:\\users\\lincs\\appdata\\local\\programs\\python\\python311\\lib\\site-packages (from matplotlib) (1.0.7)\n",
      "Requirement already satisfied: cycler>=0.10 in c:\\users\\lincs\\appdata\\local\\programs\\python\\python311\\lib\\site-packages (from matplotlib) (0.11.0)\n",
      "Requirement already satisfied: fonttools>=4.22.0 in c:\\users\\lincs\\appdata\\local\\programs\\python\\python311\\lib\\site-packages (from matplotlib) (4.38.0)\n",
      "Requirement already satisfied: kiwisolver>=1.0.1 in c:\\users\\lincs\\appdata\\local\\programs\\python\\python311\\lib\\site-packages (from matplotlib) (1.4.4)\n",
      "Requirement already satisfied: numpy>=1.19 in c:\\users\\lincs\\appdata\\local\\programs\\python\\python311\\lib\\site-packages (from matplotlib) (1.24.1)\n",
      "Requirement already satisfied: packaging>=20.0 in c:\\users\\lincs\\appdata\\roaming\\python\\python311\\site-packages (from matplotlib) (23.0)\n",
      "Requirement already satisfied: pillow>=6.2.0 in c:\\users\\lincs\\appdata\\local\\programs\\python\\python311\\lib\\site-packages (from matplotlib) (9.4.0)\n",
      "Requirement already satisfied: pyparsing>=2.2.1 in c:\\users\\lincs\\appdata\\local\\programs\\python\\python311\\lib\\site-packages (from matplotlib) (3.0.9)\n",
      "Requirement already satisfied: python-dateutil>=2.7 in c:\\users\\lincs\\appdata\\roaming\\python\\python311\\site-packages (from matplotlib) (2.8.2)\n",
      "Requirement already satisfied: six>=1.5 in c:\\users\\lincs\\appdata\\roaming\\python\\python311\\site-packages (from python-dateutil>=2.7->matplotlib) (1.16.0)\n",
      "Note: you may need to restart the kernel to use updated packages.\n"
     ]
    },
    {
     "name": "stderr",
     "output_type": "stream",
     "text": [
      "\n",
      "[notice] A new release of pip available: 22.3.1 -> 23.0\n",
      "[notice] To update, run: python.exe -m pip install --upgrade pip\n"
     ]
    }
   ],
   "source": [
    "# Install all the prerequisite packages from the Terminal\n",
    "%pip install numpy\n",
    "%pip install matplotlib"
   ]
  },
  {
   "cell_type": "code",
   "execution_count": 24,
   "metadata": {},
   "outputs": [],
   "source": [
    "import time\n",
    "import numpy as np\n",
    "import matplotlib.pyplot as plt\n",
    "import copy\n",
    "import random"
   ]
  },
  {
   "attachments": {},
   "cell_type": "markdown",
   "id": "4253a841",
   "metadata": {},
   "source": [
    "## Merge Sort: Combine"
   ]
  },
  {
   "cell_type": "code",
   "execution_count": 25,
   "id": "ccd7ce7b",
   "metadata": {},
   "outputs": [],
   "source": [
    "def merge_print(A, p, q, r):\n",
    "  n1 = q - p + 1\n",
    "  n2 = r - q\n",
    "  L = [0] * (n1)\n",
    "  R = [0] * (n2)\n",
    "  for i in range(n1):\n",
    "      L[i] = A[p + i]\n",
    "  for j in range(n2):\n",
    "      R[j] = A[q + j + 1]\n",
    "  L.append(float('inf'))\n",
    "  R.append(float('inf'))\n",
    "  i = 0\n",
    "  j = 0\n",
    "  for k in range(p, r + 1):\n",
    "    if L[i] <= R[j]:\n",
    "      A[k] = L[i]\n",
    "      i += 1\n",
    "    else:\n",
    "      A[k] = R[j]\n",
    "      j += 1\n",
    "  return A"
   ]
  },
  {
   "attachments": {},
   "cell_type": "markdown",
   "id": "4b6c070a",
   "metadata": {},
   "source": [
    "## Merge Sort with print statements"
   ]
  },
  {
   "cell_type": "code",
   "execution_count": 26,
   "id": "91f309ee",
   "metadata": {},
   "outputs": [],
   "source": [
    "def merge_sort_print(A, p, r):\n",
    "  if p < r:\n",
    "    q = (p + r)//2\n",
    "    merge_sort_print(A, p, q)\n",
    "    merge_sort_print(A, q + 1, r)\n",
    "    ## print(merge_print(A, p, q, r))\n",
    "    print(f\"Loop : {merge_print(A, p, q, r)}\")\n",
    "  return A"
   ]
  },
  {
   "attachments": {},
   "cell_type": "markdown",
   "metadata": {},
   "source": [
    "## Check that the array is sorted correctly"
   ]
  },
  {
   "cell_type": "code",
   "execution_count": 27,
   "metadata": {},
   "outputs": [],
   "source": [
    "def is_sorted(array):\n",
    "    len_array = len(array)\n",
    "    status = True\n",
    "    i = 0\n",
    "    while (i<len_array-1):\n",
    "        if (array[i]>array[i+1]):\n",
    "            status = False\n",
    "        i = i + 1\n",
    "    if (not status):\n",
    "        print(\"Array is not sorted \\n\")\n",
    "    else:\n",
    "        print(\"Array is sorted \\n\")"
   ]
  },
  {
   "attachments": {},
   "cell_type": "markdown",
   "metadata": {},
   "source": [
    "## Test input for insertion_sort_print and is_sorted functions"
   ]
  },
  {
   "cell_type": "code",
   "execution_count": 28,
   "metadata": {},
   "outputs": [
    {
     "name": "stdout",
     "output_type": "stream",
     "text": [
      "Input : [5, 2, 4, 6, 1, 3]\n",
      "Array is not sorted \n",
      "\n",
      "Loop : [2, 5, 4, 6, 1, 3]\n",
      "Loop : [2, 4, 5, 6, 1, 3]\n",
      "Loop : [2, 4, 5, 1, 6, 3]\n",
      "Loop : [2, 4, 5, 1, 3, 6]\n",
      "Loop : [1, 2, 3, 4, 5, 6]\n",
      "\n",
      "Output : [1, 2, 3, 4, 5, 6]\n",
      "Array is sorted \n",
      "\n"
     ]
    }
   ],
   "source": [
    "array =  [5, 2, 4, 6, 1, 3]\n",
    "\n",
    "print(f\"Input : {array}\")\n",
    "is_sorted(array)\n",
    "\n",
    "array_out = merge_sort_print(array, 0, len(array) - 1)\n",
    "\n",
    "print(f\"\\nOutput : {array}\")\n",
    "is_sorted(array_out)\n",
    "\n",
    "##length = random.randint(1, 10) # Random length between 1 and 100\n",
    "##array = np.random.randint(0, 20, length)\n",
    "\n",
    "##print(f\"Input : {array}\")\n",
    "##is_sorted(array)\n",
    "\n",
    "##array_out = merge_sort_print(array, 0, len(array) - 1)\n",
    "\n",
    "##print(f\"\\nOutput : {array}\")\n",
    "##is_sorted(array_out)"
   ]
  },
  {
   "cell_type": "markdown",
   "metadata": {},
   "source": [
    "## Plotting Run-Time Complexity"
   ]
  },
  {
   "cell_type": "code",
   "execution_count": 29,
   "id": "9bd2e667",
   "metadata": {},
   "outputs": [],
   "source": [
    "def merge(A, p, q, r):\n",
    "  n1 = q - p + 1\n",
    "  n2 = r - q\n",
    "  L = [0] * (n1)\n",
    "  R = [0] * (n2)\n",
    "  for i in range(n1):\n",
    "      L[i] = A[p + i]\n",
    "  for j in range(n2):\n",
    "      R[j] = A[q + j + 1]\n",
    "  L.append(float('inf'))\n",
    "  R.append(float('inf'))\n",
    "  i = 0\n",
    "  j = 0\n",
    "  for k in range(p, r + 1):\n",
    "    if L[i] <= R[j]:\n",
    "      A[k] = L[i]\n",
    "      i += 1\n",
    "    else:\n",
    "      A[k] = R[j]\n",
    "      j += 1"
   ]
  },
  {
   "cell_type": "code",
   "execution_count": 30,
   "id": "b76babe0",
   "metadata": {},
   "outputs": [],
   "source": [
    "def merge_sort(A, p, r):\n",
    "  if p < r:\n",
    "    q = (p + r)//2\n",
    "    merge_sort(A, p, q)\n",
    "    merge_sort(A, q + 1, r)\n",
    "    merge(A, p, q, r)\n",
    "  return A"
   ]
  },
  {
   "cell_type": "code",
   "execution_count": 31,
   "metadata": {},
   "outputs": [],
   "source": [
    "# Generate a random array of given size.\n",
    "def generate_random_input(size):\n",
    "    arr = np.random.randint(0, 20000, size = size)\n",
    "    return arr"
   ]
  },
  {
   "cell_type": "code",
   "execution_count": 32,
   "metadata": {},
   "outputs": [],
   "source": [
    "# Number of random arrays generated in this experiment\n",
    "monte_carlo_runs = 500\n",
    "\n",
    "# Range of array sizes considered\n",
    "start_array = 10\n",
    "end_array = 200\n",
    "increments = 10\n",
    "\n",
    "# Initiate average and worst case run-time\n",
    "avg_time_taken = [0]*(end_array//increments)\n",
    "worst_time_taken = [0]*(end_array//increments)\n",
    "\n",
    "# Run-time experiments for random arrays of a given size\n",
    "count = 0\n",
    "for curr_array_size in range(start_array, end_array+1, increments):  \n",
    "    run_times = []\n",
    "    # Given a fixed array size, generate one random array and compute its run-time\n",
    "    for iteration in range(monte_carlo_runs):             \n",
    "        array = generate_random_input(curr_array_size)    # Generate random array\n",
    "        start = time.time()                               # Record state time\n",
    "        merge_sort(array, 0, len(array) - 1)\n",
    "        end = time.time()                                 # Record end time\n",
    "        run_times.append(end - start)                     # Instantaneous ruun-time for a specific random input         \n",
    "\n",
    "    avg_time_taken[count] = sum(run_times)/len(run_times) # Empirical average of run-time\n",
    "    worst_time_taken[count] = max(run_times)              # Worst case run time across various random experiments\n",
    "    count += 1\n",
    "#print(time_taken)"
   ]
  },
  {
   "cell_type": "code",
   "execution_count": 33,
   "metadata": {},
   "outputs": [
    {
     "data": {
      "image/png": "[encoded data removed]",
      "text/plain": [
       "<Figure size 640x480 with 1 Axes>"
      ]
     },
     "metadata": {},
     "output_type": "display_data"
    }
   ],
   "source": [
    "# Data Coordinates\n",
    "x = np.arange(start_array, end_array+1, increments)\n",
    "y = np.array(avg_time_taken)\n",
    "z = np.array(worst_time_taken)\n",
    "\n",
    "# Plot\n",
    "plt.plot(x,y,'b',label='Avg Run Time') \n",
    "plt.plot(x,z,'r',label='Worst Run Time') \n",
    "\n",
    "# Add Title\n",
    "plt.title(\"Merge Sort\")\n",
    "\n",
    "# Add Axes Labels\n",
    "plt.xlabel(\"Size of Array\") \n",
    "plt.ylabel(\"Time Taken\") \n",
    "\n",
    "# Display\n",
    "plt.legend()\n",
    "plt.show()"
   ]
  },
  {
   "cell_type": "markdown",
   "metadata": {},
   "source": [
    "### References\n",
    "1. [Big o cheat sheet](https://www.bigocheatsheet.com/)\n",
    "2. [Timeit example](https://www.geeksforgeeks.org/timeit-python-examples/)"
   ]
  }
 ],
 "metadata": {
  "kernelspec": {
   "display_name": "Python 3",
   "language": "python",
   "name": "python3"
  },
  "language_info": {
   "codemirror_mode": {
    "name": "ipython",
    "version": 3
   },
   "file_extension": ".py",
   "mimetype": "text/x-python",
   "name": "python",
   "nbconvert_exporter": "python",
   "pygments_lexer": "ipython3",
   "version": "3.11.1 (tags/v3.11.1:a7a450f, Dec  6 2022, 19:58:39) [MSC v.1934 64 bit (AMD64)]"
  },
  "vscode": {
   "interpreter": {
    "hash": "a6f9a6889f2251270f60030bf9131b718b88064876a2b7b13b5dab7f1c554407"
   }
  }
 },
 "nbformat": 4,
 "nbformat_minor": 5
}
