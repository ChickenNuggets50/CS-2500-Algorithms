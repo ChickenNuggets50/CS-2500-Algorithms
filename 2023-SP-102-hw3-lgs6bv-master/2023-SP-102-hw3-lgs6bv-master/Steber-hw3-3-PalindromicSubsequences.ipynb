{
 "cells": [
  {
   "attachments": {},
   "cell_type": "markdown",
   "metadata": {},
   "source": [
    "# Notebook: Palindromic Subsequences\n",
    "## Author: Lincoln Steber\n",
    "## Course: CS 2500 (Algorithms) @ Missouri S&T"
   ]
  },
  {
   "attachments": {},
   "cell_type": "markdown",
   "metadata": {},
   "source": [
    "### Prerequisite Packages\n",
    "N/A"
   ]
  },
  {
   "cell_type": "code",
   "execution_count": 19,
   "metadata": {},
   "outputs": [],
   "source": [
    "import string\n",
    "import random"
   ]
  },
  {
   "attachments": {},
   "cell_type": "markdown",
   "id": "4b6c070a",
   "metadata": {},
   "source": [
    "## Palindromic Subsequences"
   ]
  },
  {
   "cell_type": "code",
   "execution_count": 20,
   "id": "a052da46",
   "metadata": {},
   "outputs": [],
   "source": [
    "def find_longest_palindrome(s, s1, s2):\n",
    "    if s1 == 0 or s2 == 0:\n",
    "        return 0\n",
    "    elif s[s1 - 1] == s[s1 - s2]:\n",
    "        return 1 + find_longest_palindrome(s, s1 - 1, s2 - 1)\n",
    "    else:\n",
    "        return max(find_longest_palindrome(s, s1 - 1, s2), find_longest_palindrome(s, s1, s2 - 1))"
   ]
  },
  {
   "attachments": {},
   "cell_type": "markdown",
   "metadata": {},
   "source": [
    "## Test input for Task Selection"
   ]
  },
  {
   "cell_type": "code",
   "execution_count": 21,
   "metadata": {},
   "outputs": [
    {
     "name": "stdout",
     "output_type": "stream",
     "text": [
      "The longest palindrome from the string ACGTGTCAAAATCG is: 8\n"
     ]
    }
   ],
   "source": [
    "s = 'ACGTGTCAAAATCG'\n",
    "long_pal = find_longest_palindrome(s, len(s), len(s))\n",
    "print(\"The longest palindrome from the string\", s, \"is:\", long_pal)"
   ]
  }
 ],
 "metadata": {
  "kernelspec": {
   "display_name": "Python 3",
   "language": "python",
   "name": "python3"
  },
  "language_info": {
   "codemirror_mode": {
    "name": "ipython",
    "version": 3
   },
   "file_extension": ".py",
   "mimetype": "text/x-python",
   "name": "python",
   "nbconvert_exporter": "python",
   "pygments_lexer": "ipython3",
   "version": "3.11.1"
  },
  "vscode": {
   "interpreter": {
    "hash": "a6f9a6889f2251270f60030bf9131b718b88064876a2b7b13b5dab7f1c554407"
   }
  }
 },
 "nbformat": 4,
 "nbformat_minor": 5
}
