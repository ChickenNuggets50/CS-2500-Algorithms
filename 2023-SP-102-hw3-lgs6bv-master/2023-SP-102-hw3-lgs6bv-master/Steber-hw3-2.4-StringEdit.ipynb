{
 "cells": [
  {
   "attachments": {},
   "cell_type": "markdown",
   "metadata": {},
   "source": [
    "# Notebook: String Edit Problem\n",
    "## Author: Lincoln Steber\n",
    "## Course: CS 2500 (Algorithms) @ Missouri S&T"
   ]
  },
  {
   "attachments": {},
   "cell_type": "markdown",
   "metadata": {},
   "source": [
    "### Prerequisite Packages\n",
    "N/A"
   ]
  },
  {
   "cell_type": "code",
   "execution_count": 135,
   "metadata": {},
   "outputs": [],
   "source": [
    "import string\n",
    "import random"
   ]
  },
  {
   "attachments": {},
   "cell_type": "markdown",
   "id": "4b6c070a",
   "metadata": {},
   "source": [
    "## String Edit - Dynamic Approach"
   ]
  },
  {
   "cell_type": "code",
   "execution_count": 136,
   "id": "a052da46",
   "metadata": {},
   "outputs": [],
   "source": [
    "def string_edit_dynamic(s1, s2):\n",
    "    c = [[0 for j in range(len(s2) + 1)] for i in range(len(s1) + 1)]\n",
    "    for i in range(len(s1) + 1):\n",
    "        c[i][0] = i\n",
    "    for j in range(len(s2) + 1):\n",
    "        c[0][j] = j\n",
    "    for i in range(1, len(s1) + 1):\n",
    "        for j in range(1, len(s2) + 1):\n",
    "            if s1[i - 1] == s2[j - 1]:\n",
    "                c[i][j] = c[i - 1][j - 1]\n",
    "            else:\n",
    "                substitute = c[i - 1][j - 1] + 1\n",
    "                delete = c[i - 1][j] + 1\n",
    "                insert = c[i][j - 1] + 1\n",
    "                c[i][j] = min(substitute, delete, insert)\n",
    "    return c[len(s1)][len(s2)]"
   ]
  },
  {
   "attachments": {},
   "cell_type": "markdown",
   "id": "ccb9b150",
   "metadata": {},
   "source": [
    "## String Edit- Greedy Approach"
   ]
  },
  {
   "cell_type": "code",
   "execution_count": 137,
   "id": "31d9e9a8",
   "metadata": {},
   "outputs": [],
   "source": [
    "def string_edit_greedy(s1, s2):\n",
    "    c, i, j = 0, 0, 0\n",
    "    while i < len(s1) or j < len(s2):\n",
    "        if i == len(s1):\n",
    "            c += len(s2) - j\n",
    "            break\n",
    "        elif j == len(s2):\n",
    "            c += len(s1) - i\n",
    "            break\n",
    "        if s1[i] == s2[j]:\n",
    "            i += 1\n",
    "            j += 1\n",
    "        else:\n",
    "            substitute, delete, insert = 1, 1, 1\n",
    "            if i < len(s1) - 1 and j < len(s2) - 1 and s1[i + 1] == s2[j] and s1[i] == s2[j + 1]:\n",
    "                substitute = 2\n",
    "            if j < len(s2) - 1 and s1[i] == s2[j + 1]:\n",
    "                insert = 2\n",
    "            if i < len(s1) - 1 and s1[i + 1] == s2[j]:\n",
    "                delete = 2\n",
    "            if substitute <= delete and substitute <= insert:\n",
    "                c += substitute\n",
    "                i += 1\n",
    "                j += 1\n",
    "            elif delete <= insert:\n",
    "                c += delete\n",
    "                i += 1\n",
    "            else:\n",
    "                c += insert\n",
    "                j += 1\n",
    "    return c"
   ]
  },
  {
   "attachments": {},
   "cell_type": "markdown",
   "metadata": {},
   "source": [
    "## Test input for Task Selection"
   ]
  },
  {
   "cell_type": "code",
   "execution_count": 140,
   "metadata": {},
   "outputs": [
    {
     "name": "stdout",
     "output_type": "stream",
     "text": [
      "Orignial word: ALGORITHM\n",
      "Dynamic Edits: 7\n",
      "Greedy Edits: 9\n",
      "Orignial Words: CTAVVPBUDW EDZTFQLBNI\n",
      "Dynamic Edits: 10\n",
      "Greedy Edits: 10\n"
     ]
    }
   ],
   "source": [
    "S1 = \"ALKHWARIZMI\"\n",
    "S2 = \"ALGORITHM\"\n",
    "n = 10\n",
    "S = string.ascii_uppercase\n",
    "s1 = ''.join(random.choices(S, k=n))\n",
    "s2 = ''.join(random.choices(S, k=n))\n",
    "print(\"Orignial word: ALGORITHM\")\n",
    "print(\"Dynamic Edits:\", string_edit_dynamic(S1, S2))\n",
    "print(\"Greedy Edits:\", string_edit_greedy(S1, S2))\n",
    "print(\"Orignial Words:\", s1, s2)\n",
    "print(\"Dynamic Edits:\", string_edit_dynamic(s1, s2))\n",
    "print(\"Greedy Edits:\", string_edit_greedy(s1, s2))"
   ]
  }
 ],
 "metadata": {
  "kernelspec": {
   "display_name": "Python 3",
   "language": "python",
   "name": "python3"
  },
  "language_info": {
   "codemirror_mode": {
    "name": "ipython",
    "version": 3
   },
   "file_extension": ".py",
   "mimetype": "text/x-python",
   "name": "python",
   "nbconvert_exporter": "python",
   "pygments_lexer": "ipython3",
   "version": "3.11.1"
  },
  "vscode": {
   "interpreter": {
    "hash": "a6f9a6889f2251270f60030bf9131b718b88064876a2b7b13b5dab7f1c554407"
   }
  }
 },
 "nbformat": 4,
 "nbformat_minor": 5
}
