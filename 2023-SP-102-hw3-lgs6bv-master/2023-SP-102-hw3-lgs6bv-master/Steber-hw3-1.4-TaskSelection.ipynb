{
 "cells": [
  {
   "attachments": {},
   "cell_type": "markdown",
   "metadata": {},
   "source": [
    "# Notebook: Task Selection\n",
    "## Author: Lincoln Steber\n",
    "## Course: CS 2500 (Algorithms) @ Missouri S&T"
   ]
  },
  {
   "attachments": {},
   "cell_type": "markdown",
   "metadata": {},
   "source": [
    "### Prerequisite Packages\n",
    "N/A"
   ]
  },
  {
   "cell_type": "code",
   "execution_count": 16,
   "metadata": {},
   "outputs": [],
   "source": [
    "import random"
   ]
  },
  {
   "attachments": {},
   "cell_type": "markdown",
   "id": "4b6c070a",
   "metadata": {},
   "source": [
    "## Task Selection - Dynamic Approach"
   ]
  },
  {
   "cell_type": "code",
   "execution_count": 17,
   "id": "a052da46",
   "metadata": {},
   "outputs": [],
   "source": [
    "def task_selection_dynamic(jobs):\n",
    "    jobs = sorted(jobs, key=lambda x: x[1])\n",
    "    n = len(jobs)\n",
    "    V = [0] * (n + 1)\n",
    "    best_jobs = [[] for i in range(n + 1)]\n",
    "    for i in range(1, n + 1):\n",
    "        j = i - 1\n",
    "        while j > 0 and jobs[j - 1][1] > jobs[i - 1][0]:\n",
    "            j -= 1\n",
    "        value_i = jobs[i - 1][2] + V[j]\n",
    "        if value_i > V[i - 1]:\n",
    "            V[i] = value_i\n",
    "            best_jobs[i] = best_jobs[j] + [jobs[i - 1]]\n",
    "        else:\n",
    "            V[i] = V[i - 1]\n",
    "            best_jobs[i] = best_jobs[i - 1]\n",
    "    return best_jobs[n]"
   ]
  },
  {
   "attachments": {},
   "cell_type": "markdown",
   "id": "ccb9b150",
   "metadata": {},
   "source": [
    "## Task Selection - Greedy Approach"
   ]
  },
  {
   "cell_type": "code",
   "execution_count": 18,
   "id": "31d9e9a8",
   "metadata": {},
   "outputs": [],
   "source": [
    "def task_selection_greedy(jobs):\n",
    "    jobs = sorted(jobs, key=lambda x: x[0])\n",
    "    greedy_jobs = []\n",
    "    for job in jobs:\n",
    "        if not greedy_jobs or job[0] >= greedy_jobs[-1][1]:\n",
    "            greedy_jobs.append(job)\n",
    "    return greedy_jobs"
   ]
  },
  {
   "attachments": {},
   "cell_type": "markdown",
   "metadata": {},
   "source": [
    "## Test input for Task Selection"
   ]
  },
  {
   "cell_type": "code",
   "execution_count": 20,
   "metadata": {},
   "outputs": [
    {
     "name": "stdout",
     "output_type": "stream",
     "text": [
      "Random Jobs: [(2, 5, 3), (8, 10, 2), (1, 2, 1), (6, 7, 1), (4, 5, 1), (9, 10, 1), (9, 10, 1), (7, 9, 2), (3, 7, 4), (5, 9, 4)]\n",
      "Dynamic: [(1, 2, 1), (2, 5, 3), (5, 9, 4), (9, 10, 1)]\n",
      "Greedy: [(1, 2, 1), (2, 5, 3), (5, 9, 4), (9, 10, 1)]\n"
     ]
    }
   ],
   "source": [
    "#tuple = ((1, 4, 3), (3, 5, 2), (0, 6, 6), (4, 7, 3), (3, 8, 5), (5, 9, 4), (6, 10, 4), (8, 11, 3))\n",
    "jobs = 10\n",
    "random_tuples = []\n",
    "for i in range(jobs):\n",
    "    start = int(random.randint(0, 9))\n",
    "    end = int(random.randint(start + 1, 10))\n",
    "    value = end - start\n",
    "    random_tuples.append(tuple([start, end, value]))\n",
    "print(\"Random Jobs:\", random_tuples)\n",
    "print(\"Dynamic:\", task_selection_dynamic(random_tuples))\n",
    "print(\"Greedy:\", task_selection_greedy(random_tuples))"
   ]
  }
 ],
 "metadata": {
  "kernelspec": {
   "display_name": "Python 3",
   "language": "python",
   "name": "python3"
  },
  "language_info": {
   "codemirror_mode": {
    "name": "ipython",
    "version": 3
   },
   "file_extension": ".py",
   "mimetype": "text/x-python",
   "name": "python",
   "nbconvert_exporter": "python",
   "pygments_lexer": "ipython3",
   "version": "3.11.1"
  },
  "vscode": {
   "interpreter": {
    "hash": "a6f9a6889f2251270f60030bf9131b718b88064876a2b7b13b5dab7f1c554407"
   }
  }
 },
 "nbformat": 4,
 "nbformat_minor": 5
}
